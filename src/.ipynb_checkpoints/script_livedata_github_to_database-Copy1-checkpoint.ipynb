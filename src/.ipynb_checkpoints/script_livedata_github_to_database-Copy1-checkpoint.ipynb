{
 "cells": [
  {
   "cell_type": "code",
   "execution_count": 1,
   "metadata": {},
   "outputs": [],
   "source": [
    "import numpy as np\n",
    "import pandas as pd\n",
    "\n",
    "\n",
    "us = 'https://raw.githubusercontent.com/nytimes/covid-19-data/master/live/us.csv'\n",
    "us_states='https://raw.githubusercontent.com/nytimes/covid-19-data/master/live/us-states.csv'\n",
    "us_county='https://raw.githubusercontent.com/nytimes/covid-19-data/master/live/us-counties.csv'\n",
    "\n",
    "df_us = pd.read_csv(us, parse_dates=[0])\n",
    "df_us_states = pd.read_csv(us_states, parse_dates=[0])\n",
    "df_us_county = pd.read_csv(us_county, parse_dates=[0])\n",
    "\n",
    "\n",
    "df_us['date']=df_us['date'].apply(lambda x: x.strftime('%Y-%m-%d'))\n",
    "df_us_states['date']=df_us_states['date'].apply(lambda x: x.strftime('%Y-%m-%d'))\n",
    "df_us_county['date']=df_us_county['date'].apply(lambda x: x.strftime('%Y-%m-%d'"
   ]
  },
  {
   "cell_type": "code",
   "execution_count": 2,
   "metadata": {},
   "outputs": [],
   "source": [
    "import mysql.connector\n",
    "\n",
    "mydb = mysql.connector.connect(\n",
    "  host=\"localhost\",\n",
    "  user=\"nxtadmin_nxt_anant\",\n",
    "  passwd=\"rootpasswordgiven\",\n",
    "  database=\"nxtadmin_covid_us\"\n",
    ")\n",
    "mycursor = mydb.cursor()"
   ]
  },
  {
   "cell_type": "code",
   "execution_count": 3,
   "metadata": {},
   "outputs": [
    {
     "name": "stdout",
     "output_type": "stream",
     "text": [
      "1 was inserted.\n"
     ]
    }
   ],
   "source": [
    "df_us=df_us.fillna(0)\n",
    "sql = \"INSERT INTO covid_live_us (date, cases, deaths,confirmed_cases, confirmed_deaths, probable_cases, probable_deaths) VALUES (%s, %s, %s, %s, %s, %s, %s)\"\n",
    "val = df_us.values.tolist()\n",
    "mycursor.executemany(sql, val)\n",
    "mydb.commit()\n",
    "print(mycursor.rowcount, \"was inserted.\")"
   ]
  },
  {
   "cell_type": "code",
   "execution_count": 4,
   "metadata": {},
   "outputs": [
    {
     "name": "stdout",
     "output_type": "stream",
     "text": [
      "55 was inserted.\n"
     ]
    }
   ],
   "source": [
    "df_us_states=df_us_states.fillna(0)\n",
    "sql = \"INSERT INTO covid_live_us_states (date, state, fips, cases, deaths,confirmed_cases, confirmed_deaths, probable_cases, probable_deaths) VALUES (%s, %s, %s,%s, %s, %s, %s, %s, %s)\"\n",
    "val = df_us_states.values.tolist()\n",
    "mycursor.executemany(sql, val)\n",
    "mydb.commit()\n",
    "print(mycursor.rowcount, \"was inserted.\")"
   ]
  },
  {
   "cell_type": "code",
   "execution_count": 5,
   "metadata": {},
   "outputs": [
    {
     "name": "stdout",
     "output_type": "stream",
     "text": [
      "3077 was inserted.\n"
     ]
    }
   ],
   "source": [
    "df_us_county=df_us_county.fillna(0)\n",
    "sql = \"INSERT INTO covid_live_us_counties (date, county, state, fips, cases, deaths,confirmed_cases, confirmed_deaths, probable_cases, probable_deaths) VALUES (%s, %s, %s, %s, %s, %s, %s, %s, %s, %s)\"\n",
    "val = df_us_county.values.tolist()\n",
    "mycursor.executemany(sql, val)\n",
    "mydb.commit()\n",
    "print(mycursor.rowcount, \"was inserted.\")"
   ]
  },
  {
   "cell_type": "code",
   "execution_count": null,
   "metadata": {},
   "outputs": [],
   "source": []
  },
  {
   "cell_type": "code",
   "execution_count": null,
   "metadata": {},
   "outputs": [],
   "source": []
  }
 ],
 "metadata": {
  "kernelspec": {
   "display_name": "Python 3",
   "language": "python",
   "name": "python3"
  },
  "language_info": {
   "codemirror_mode": {
    "name": "ipython",
    "version": 3
   },
   "file_extension": ".py",
   "mimetype": "text/x-python",
   "name": "python",
   "nbconvert_exporter": "python",
   "pygments_lexer": "ipython3",
   "version": "3.6.9"
  }
 },
 "nbformat": 4,
 "nbformat_minor": 2
}
