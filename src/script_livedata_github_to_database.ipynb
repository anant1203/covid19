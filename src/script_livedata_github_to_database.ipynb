{
 "cells": [
  {
   "cell_type": "code",
   "execution_count": 8,
   "metadata": {},
   "outputs": [],
   "source": [
    "import numpy as np\n",
    "import pandas as pd\n",
    "\n",
    "columns_us = ['date', 'cases', 'deaths'] \n",
    "columns_us_states = ['date', 'state', 'fips', 'cases', 'deaths']\n",
    "columns_us_county = ['date', 'county','state', 'fips','cases', 'deaths']\n",
    "\n",
    "us = 'https://raw.githubusercontent.com/nytimes/covid-19-data/master/live/us.csv'\n",
    "us_states='https://raw.githubusercontent.com/nytimes/covid-19-data/master/live/us-states.csv'\n",
    "us_county='https://raw.githubusercontent.com/nytimes/covid-19-data/master/live/us-counties.csv'\n",
    "\n",
    "df_us = pd.read_csv(us, parse_dates=[0])\n",
    "df_us_states = pd.read_csv(us_states, parse_dates=[0])\n",
    "df_us_county = pd.read_csv(us_county, parse_dates=[0])\n",
    "\n",
    "df_us = df_us[columns_us]\n",
    "df_us_states = df_us_states[columns_us_states]\n",
    "df_us_county = df_us_county[columns_us_county]\n",
    "\n",
    "df_us['date']=df_us['date'].apply(lambda x: x.strftime('%Y-%m-%d'))\n",
    "df_us_states['date']=df_us_states['date'].apply(lambda x: x.strftime('%Y-%m-%d'))\n",
    "df_us_county['date']=df_us_county['date'].apply(lambda x: x.strftime('%Y-%m-%d'))"
   ]
  },
  {
   "cell_type": "code",
   "execution_count": 9,
   "metadata": {},
   "outputs": [],
   "source": [
    "import mysql.connector\n",
    "\n",
    "mydb = mysql.connector.connect(\n",
    "  host=\"localhost\",\n",
    "  user=\"root\",\n",
    "  passwd=\"rootpasswordgiven\",\n",
    "  database=\"covid19\"\n",
    ")\n",
    "mycursor = mydb.cursor()\n"
   ]
  },
  {
   "cell_type": "code",
   "execution_count": null,
   "metadata": {},
   "outputs": [],
   "source": [
    "sql = \"INSERT INTO covid_us (date, cases, deaths) VALUES (%s, %s, %s)\"\n",
    "val = df_us.values.tolist()\n",
    "mycursor.executemany(sql, val)\n",
    "mydb.commit()\n",
    "print(mycursor.rowcount, \"was inserted.\")"
   ]
  },
  {
   "cell_type": "code",
   "execution_count": 11,
   "metadata": {},
   "outputs": [
    {
     "name": "stdout",
     "output_type": "stream",
     "text": [
      "55 was inserted.\n"
     ]
    }
   ],
   "source": [
    "sql = \"INSERT INTO covid_us_states (date, state, fips, cases, deaths) VALUES (%s, %s, %s, %s, %s)\"\n",
    "val = df_us_states.values.tolist()\n",
    "mycursor.executemany(sql, val)\n",
    "mydb.commit()\n",
    "print(mycursor.rowcount, \"was inserted.\")"
   ]
  },
  {
   "cell_type": "code",
   "execution_count": 21,
   "metadata": {},
   "outputs": [
    {
     "name": "stdout",
     "output_type": "stream",
     "text": [
      "3045 was inserted.\n"
     ]
    }
   ],
   "source": [
    "df_us_county=df_us_county.fillna(0)\n",
    "sql = \"INSERT INTO covid_us_counties (date, county, state, fips, cases, deaths) VALUES (%s, %s, %s, %s, %s, %s)\"\n",
    "val = df_us_county.values.tolist()\n",
    "mycursor.executemany(sql, val)\n",
    "mydb.commit()\n",
    "print(mycursor.rowcount, \"was inserted.\")"
   ]
  }
 ],
 "metadata": {
  "kernelspec": {
   "display_name": "Python 3",
   "language": "python",
   "name": "python3"
  },
  "language_info": {
   "codemirror_mode": {
    "name": "ipython",
    "version": 3
   },
   "file_extension": ".py",
   "mimetype": "text/x-python",
   "name": "python",
   "nbconvert_exporter": "python",
   "pygments_lexer": "ipython3",
   "version": "3.6.9"
  }
 },
 "nbformat": 4,
 "nbformat_minor": 2
}
