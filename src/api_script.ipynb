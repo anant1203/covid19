{
 "cells": [
  {
   "cell_type": "code",
   "execution_count": 4,
   "metadata": {},
   "outputs": [],
   "source": [
    "from __future__ import print_function\n",
    "import pandas as pd\n",
    "from datetime import date, datetime, timedelta\n",
    "import mysql.connector\n",
    "import flask\n",
    "from flask import request, render_template"
   ]
  },
  {
   "cell_type": "markdown",
   "metadata": {},
   "source": [
    "### Database Connection:"
   ]
  },
  {
   "cell_type": "code",
   "execution_count": 2,
   "metadata": {},
   "outputs": [],
   "source": [
    "mydb = mysql.connector.connect(\n",
    "  host=\"localhost\",\n",
    "  user=\"root\",\n",
    "  passwd=\"rootpasswordgiven\",\n",
    "  database=\"covid19\"\n",
    ")\n",
    "mycursor = mydb.cursor(buffered=True)\n",
    "mycursor1 = mydb.cursor(buffered=True)"
   ]
  },
  {
   "cell_type": "code",
   "execution_count": 3,
   "metadata": {},
   "outputs": [],
   "source": [
    "app = flask.Flask(__name__,template_folder='/home/anant/Desktop/covid19-master/template')\n",
    "app.config[\"DEBUG\"] = True"
   ]
  },
  {
   "cell_type": "code",
   "execution_count": 5,
   "metadata": {},
   "outputs": [],
   "source": [
    "@app.route('/', methods=['GET'])\n",
    "def home():\n",
    "    return render_template('index.html')"
   ]
  },
  {
   "cell_type": "markdown",
   "metadata": {},
   "source": [
    "### State Details:"
   ]
  },
  {
   "cell_type": "code",
   "execution_count": 5,
   "metadata": {},
   "outputs": [],
   "source": [
    "@app.route('/api/covid/state_all', methods=['GET','POST'])\n",
    "def state_all():\n",
    "    query1=(\"Select state, count(fips), count(cases), count(deaths) from covid_us_states group by state;\")\n",
    "    mycursor.execute(query1)\n",
    "    df1 = pd.DataFrame(columns=['state','fips','cases', 'deaths'])\n",
    "    for state, fips, cases, deaths in mycursor:\n",
    "        df1 = df1.append({\"state\":state,\"fips\":fips,\"cases\":cases,\"deaths\": deaths},ignore_index=True)\n",
    "\n",
    "    query2=(\"Select state, count(fips), count(cases), count(deaths) from covid_live_us_states group by state;\")\n",
    "    df2 = pd.DataFrame(columns=['state','fips','cases', 'deaths'])\n",
    "    mycursor.execute(query2)\n",
    "    for state, fips, cases, deaths in mycursor:\n",
    "         df2=df2.append({\"state\":state,\"fips\":fips,\"cases\":cases,\"deaths\": deaths},ignore_index=True)\n",
    "\n",
    "    df1 = df1.set_index('state')\n",
    "    df2 = df2.set_index('state')\n",
    "    df1 = df1.add(df2)\n",
    "    \n",
    "    return df1.to_json(orient='table')\n",
    "    "
   ]
  },
  {
   "cell_type": "markdown",
   "metadata": {},
   "source": [
    "### County details:"
   ]
  },
  {
   "cell_type": "code",
   "execution_count": 6,
   "metadata": {},
   "outputs": [],
   "source": [
    "@app.route('/api/covid/county_all', methods=['GET','POST'])\n",
    "def county_all():\n",
    "    query3=(\"Select county, count(fips), count(cases),count( deaths) from covid_us_counties group by county;\")\n",
    "    mycursor.execute(query3)\n",
    "    df3 = pd.DataFrame(columns=['county','fips','cases', 'deaths'])\n",
    "    for county, fips, cases, deaths in mycursor:\n",
    "        df3 = df3.append({\"county\":county,\"fips\":fips,\"cases\":cases,\"deaths\": deaths},ignore_index=True)\n",
    "\n",
    "    query4=(\"Select county, count(fips), count(cases),count( deaths) from covid_live_us_counties group by county;\")\n",
    "    mycursor.execute(query4)\n",
    "    df4 = pd.DataFrame(columns=['county','fips','cases', 'deaths'])\n",
    "    for county, fips, cases, deaths in mycursor:\n",
    "        df4 = df4.append({\"county\":county,\"fips\":fips,\"cases\":cases,\"deaths\": deaths},ignore_index=True)\n",
    "\n",
    "    df3=df3.set_index('county')\n",
    "    df4=df4.set_index('county')\n",
    "    df3=df3.add(df4)\n",
    "    df3.head()\n",
    "    return df3.to_json(orient='table')"
   ]
  },
  {
   "cell_type": "markdown",
   "metadata": {},
   "source": [
    "### US Details:"
   ]
  },
  {
   "cell_type": "code",
   "execution_count": 7,
   "metadata": {},
   "outputs": [],
   "source": [
    "@app.route('/api/covid/county_all', methods=['GET','POST'])\n",
    "def us_all():\n",
    "    query5=(\"Select cases, deaths from covid_us;\")\n",
    "    mycursor.execute(query5)\n",
    "    df5 = pd.DataFrame(columns=['cases', 'deaths'])\n",
    "    for cases, deaths in mycursor:\n",
    "        df5 = df5.append({\"cases\":cases,\"deaths\": deaths},ignore_index=True)\n",
    "\n",
    "    query6=(\"Select cases , deaths from covid_live_us;\")\n",
    "    mycursor.execute(query6)\n",
    "    df6 = pd.DataFrame(columns=['cases', 'deaths'])\n",
    "    for cases, deaths in mycursor:\n",
    "        df6 = df6.append({\"cases\":cases,\"deaths\": deaths},ignore_index=True)\n",
    "\n",
    "    df5=df5.append(df6,ignore_index=True)\n",
    "    df5.head()\n",
    "    return df5.to_json(orient='table')\n",
    "    "
   ]
  },
  {
   "cell_type": "markdown",
   "metadata": {},
   "source": [
    "### States wise county details:"
   ]
  },
  {
   "cell_type": "code",
   "execution_count": 10,
   "metadata": {},
   "outputs": [],
   "source": [
    "@app.route('/api/covid/states_wise_county/', methods=['GET','POST'])\n",
    "def state_wise_county():\n",
    "    state_name = request.get_json()['state_name']\n",
    "    query3=(\"Select county, count(fips), count(cases),count( deaths) from covid_us_counties where state= \\'{}\\' group by county;\")\n",
    "    mycursor.execute(query3.format(state_name))\n",
    "    df3 = pd.DataFrame(columns=['county','fips','cases', 'deaths'])\n",
    "    for county, fips, cases, deaths in mycursor:\n",
    "        df3 = df3.append({\"county\":county,\"fips\":fips,\"cases\":cases,\"deaths\": deaths},ignore_index=True)\n",
    "\n",
    "    query4=(\"Select county, count(fips), count(cases),count( deaths) from covid_live_us_counties where state= \\'{}\\' group by county;\")\n",
    "    mycursor.execute(query4.format(state_name))\n",
    "    df4 = pd.DataFrame(columns=['county','fips','cases', 'deaths'])\n",
    "    for county, fips, cases, deaths in mycursor:\n",
    "        df4 = df4.append({\"county\":county,\"fips\":fips,\"cases\":cases,\"deaths\": deaths},ignore_index=True)\n",
    "\n",
    "    df3=df3.set_index('county')\n",
    "    df4=df4.set_index('county')\n",
    "    df3=df3.add(df4)\n",
    "    df3.head()\n",
    "    return(df3.to_json(orient='table'))"
   ]
  },
  {
   "cell_type": "markdown",
   "metadata": {},
   "source": [
    "### Confirmed and Probable:  Cases / Deaths"
   ]
  },
  {
   "cell_type": "code",
   "execution_count": null,
   "metadata": {},
   "outputs": [],
   "source": [
    "@app.route('/api/covid/county_confirmed_proable/', methods=['GET','POST'])\n",
    "def state_wise_county():\n",
    "    state_name = request.get_json()['state_name']\n",
    "    query4=(\"Select county, count(confirmed_cases), count(probable_cases),count( confirmed_deaths) ,count( probable_deaths) from covid_live_us_counties where state= \\'{}\\' group by county;\")\n",
    "    mycursor.execute(query4.format('georgia'))\n",
    "    df4 = pd.DataFrame(columns=['county','fips','cases', 'deaths'])\n",
    "    for county, confirmed_cases, probable_cases, confirmed_deaths, probable_deaths in mycursor:\n",
    "        df4 = df4.append({\"county\":county,\"confirmed_cases\":confirmed_cases,\"probable_cases\":probable_cases,\"confirmed_deaths\": confirmed_deaths,\"probable_deaths\":probable_deaths},ignore_index=True)\n",
    "    df4=df4.set_index('county')\n",
    "    return df4.to_json(orient='table'"
   ]
  },
  {
   "cell_type": "markdown",
   "metadata": {},
   "source": [
    "### Reverse lookup"
   ]
  },
  {
   "cell_type": "code",
   "execution_count": 21,
   "metadata": {},
   "outputs": [],
   "source": [
    "@app.route('/api/covid/lookup/', methods=['GET','POST'])\n",
    "def lookup():\n",
    "    \n",
    "    city_name = request.get_json()['city_name']\n",
    "    stat_id = request.get_json()['stat_id']\n",
    "    \n",
    "    query4=(\"SELECT * FROM covid19.Hospital_List where city=\\'{}\\' and stat_id = \\'{}\\';\")\n",
    "    \n",
    "    mycursor.excecute(query4.format(city_name, stat_id))\n",
    "    \n",
    "    print(mycursor.statement)\n",
    "    \n",
    "    df4 = pd.DataFrame(columns=mycursor.column_names)\n",
    "    \n",
    "    for id, name, address_1, city, stat_id,zipcode,FIPS,CBSA2015,CBSA2017,CBSA2018,RUCA,FORHP,SPECIALPAYMENT,phone,POS,capacity,BEDS,acute_occupancy in mycursor:\n",
    "        df4 = df4.append({\"id\":id,\"name\":name,\"address_1\":address_1,\"city\":city,\"stat_id\":stat_id,\"zipcode\":zipcode,\"FIPS\":FIPS,\n",
    "                    \"CBSA 2015\":CBSA2015,\"CBSA 2017\":CBSA2017,\"CBSA 2018\":CBSA2018,\"RUCA Code\":RUCACode,\n",
    "                     'FORHP Rural/Urban 2018':FORHP,\n",
    "                     'SPECIAL PAYMENT':SPECIALPAYMENT,\n",
    "                     'phone':phone,\n",
    "                     'CERTIFIED BEDS, POS':POS,\n",
    "                     'capacity':capacity,\n",
    "                     'BEDS, PSF':BEDS,\n",
    "                     'acute_occupancy':acute_occupancy},ignore_index=True)\n",
    "        \n",
    "    return df4.to_json(orient='table')"
   ]
  },
  {
   "cell_type": "code",
   "execution_count": null,
   "metadata": {},
   "outputs": [],
   "source": [
    "@app.route('/api/covid/reverse_lookup_2/', methods=['GET','POST'])\n",
    "def reverse_lookup_2():\n",
    "    city_name = request.get_json()['city']\n",
    "    query4=(\"SELECT * FROM covid19.Hospital_List where city=\\'{}\\' and state = ;\")\n",
    "    mycursor.execute(query4.format(city_name))\n",
    "    query5=(\"select zip from us_zip_code where city = \\'{}\\'\")\n",
    "    mycursor1.execute(query5.format(city_name))\n",
    "    df4 = pd.DataFrame(columns=mycursor.column_names)\n",
    "    query6= mycursor.statement + \"and zipcode in (\" + mycursor1.statement + \");\"\n",
    "    mycursor1.execute(query6,multi=True)\n",
    "    for id, name, address_1, city, stat_id,zipcode,FIPS,CBSA2015,CBSA2017,CBSA2018,RUCA,FORHP,SPECIALPAYMENT,phone,POS,capacity,BEDS,acute_occupancy in mycursor:\n",
    "        df4 = df4.append({\"id\":id,\"name\":name,\"address_1\":address_1,\"city\":city,\"stat_id\":stat_id,\"zipcode\":zipcode,\"FIPS\":FIPS,\n",
    "                    \"CBSA 2015\":CBSA2015,\"CBSA 2017\":CBSA2017,\"CBSA 2018\":CBSA2018,\"RUCA Code\":RUCACode,\n",
    "                     'FORHP Rural/Urban 2018':FORHP,\n",
    "                     'SPECIAL PAYMENT':SPECIALPAYMENT,\n",
    "                     'phone':phone,\n",
    "                     'CERTIFIED BEDS, POS':POS,\n",
    "                     'capacity':capacity,\n",
    "                     'BEDS, PSF':BEDS,\n",
    "                     'acute_occupancy':acute_occupancy},ignore_index=True)\n",
    "    return df4.to_json(orient='table')"
   ]
  },
  {
   "cell_type": "markdown",
   "metadata": {},
   "source": [
    "### Inserting facilities"
   ]
  },
  {
   "cell_type": "code",
   "execution_count": null,
   "metadata": {},
   "outputs": [],
   "source": [
    "@app.route('/api/covid/new_facilites/', methods=['GET','POST'])\n",
    "def new_facilites():\n",
    "    \n",
    "    id = request.get_json()['id']\n",
    "\n",
    "    critical_care_capacity = request.get_json()['critical_care_capacity']\n",
    "    critical_care_occupancy = request.get_json()['critical_care_occupancy']\n",
    "    critical_care_surge_capacity = request.get_json()['critical_care_surge_capacity']\n",
    "\n",
    "    intermediate_care_capacity = request.get_json()['intermediate_care_capacity']\n",
    "    intermediate_care_occupancy = request.get_json()['intermediate_care_occupancy']\n",
    "    intermediate_care_surge_capacity = request.get_json()['intermediate_care_surge_capacity']\n",
    "\n",
    "    acute_care_capacity = request.get_json()['acute_care_capacity']\n",
    "    acute_care_occupancy = request.get_json()['acute_care_occupancy']\n",
    "    acute_care_surge_capacity = request.get_json()['acute_care_surge_capacity']\n",
    "\n",
    "    inpaitent_subtotal_capacity = request.get_json()['inpaitent_subtotal_capacity']\n",
    "    inpaitent_subtotal_occupancy = request.get_json()['inpaitent_subtotal_occupancy']\n",
    "    inpaitent_subtotal_surge_capacity = request.get_json()['inpaitent_subtotal_surge_capacity']\n",
    "\n",
    "    observation_capacity = request.get_json()['observation_capacity']\n",
    "    observation_occupancy = request.get_json()['observation_occupancy']\n",
    "    observation_surge_capacity = request.get_json()['observation_surge_capacity']\n",
    "\n",
    "    result_waiting_capacity = request.get_json()['result_waiting_capacity']\n",
    "    result_waiting_occupancy = request.get_json()['result_waiting_occupancy']\n",
    "    result_waiting_surge_capacity = request.get_json()['result_waiting_surge_capacity']\n",
    "\n",
    "    discharge_capacity = request.get_json()['discharge_capacity']\n",
    "    discharge_occupancy = request.get_json()['discharge_occupancy']\n",
    "    discharge_surge_capacity = request.get_json()['discharge_surge_capacity']\n",
    "\n",
    "    non_in_patient_subtotal = request.get_json()['non_in_patient_subtotal']\n",
    "    totals = request.get_json()['totals']\n",
    "    \n",
    "    print(id,critical_care_capacity,critical_care_occupancy,critical_care_surge_capacity,intermediate_care_capacity,\n",
    "         intermediate_care_occupancy,intermediate_care_surge_capacity,acute_care_capacity,acute_care_occupancy,\n",
    "         acute_care_surge_capacity,inpaitent_subtotal_capacity,inpaitent_subtotal_occupancy,\n",
    "         inpaitent_subtotal_surge_capacity,observation_capacity,observation_occupancy,observation_surge_capacity,\n",
    "         result_waiting_capacity,result_waiting_occupancy,result_waiting_surge_capacity,discharge_capacity,\n",
    "         discharge_occupancy,discharge_surge_capacity,non_in_patient_subtotal,totals)\n",
    "\n",
    "    sql= \"insert into new_facilites (id, critical_care_capacity, critical_care_occupancy, critical_care_surge_capacity, intermediate_care_capacity,intermediate_care_occupancy, intermediate_care_surge_capacity, acute_care_capacity, acute_care_occupancy, acute_care_surge_capacity, inpaitent_subtotal_capacity, inpaitent_subtotal_occupancy,inpaitent_subtotal_surge_capacity, observation_capacity, observation_occupancy, observation_surge_capacity, result_waiting_capacity, result_waiting_occupancy, result_waiting_surge_capacity, discharge_capacity, discharge_occupancy, discharge_surge_capacity, non_in_patient_subtotal, totals) values (%s, %s, %s, %s, %s, %s, %s, %s, %s, %s, %s, %s, %s, %s, %s, %s, %s, %s, %s, %s, %s, %s, %s, %s);\"\n",
    "    \n",
    "    val = [id,critical_care_capacity,critical_care_occupancy, critical_care_surge_capacity, \n",
    "           intermediate_care_capacity,intermediate_care_occupancy,intermediate_care_surge_capacity,\n",
    "          acute_care_capacity,acute_care_occupancy,acute_care_surge_capacity, inpaitent_subtotal_capacity,\n",
    "          inpaitent_subtotal_occupancy,inpaitent_subtotal_surge_capacity, observation_capacity, observation_occupancy,\n",
    "          observation_surge_capacity, result_waiting_capacity, result_waiting_occupancy, result_waiting_surge_capacity,\n",
    "          discharge_capacity, discharge_occupancy, discharge_surge_capacity, non_in_patient_subtotal, totals]\n",
    "    \n",
    "    mycursor.executemany(sql, val)\n",
    "    \n",
    "    return (mycursor.rowcount)"
   ]
  },
  {
   "cell_type": "code",
   "execution_count": 13,
   "metadata": {},
   "outputs": [
    {
     "data": {
      "text/plain": [
       "array([(110079,)], dtype=object)"
      ]
     },
     "execution_count": 13,
     "metadata": {},
     "output_type": "execute_result"
    }
   ],
   "source": [
    "sql1= \"insert into new_facilites (id, critical_care_capacity, critical_care_occupancy, critical_care_surge_capacity, intermediate_care_capacity,intermediate_care_occupancy, intermediate_care_surge_capacity, acute_care_capacity, acute_care_occupancy, acute_care_surge_capacity, inpaitent_subtotal_capacity, inpaitent_subtotal_occupancy,inpaitent_subtotal_surge_capacity, observation_capacity, observation_occupancy, observation_surge_capacity, result_waiting_capacity, result_waiting_occupancy, result_waiting_surge_capacity, discharge_capacity, discharge_occupancy, discharge_surge_capacity, non_in_patient_subtotal, totals) values (%s, %s, %s, %s, %s, %s, %s, %s, %s, %s, %s, %s, %s, %s, %s, %s, %s, %s, %s, %s, %s, %s, %s, %s);\""
   ]
  },
  {
   "cell_type": "code",
   "execution_count": null,
   "metadata": {},
   "outputs": [],
   "source": [
    "mycursor.close"
   ]
  },
  {
   "cell_type": "markdown",
   "metadata": {},
   "source": [
    "### testing script"
   ]
  },
  {
   "cell_type": "code",
   "execution_count": 10,
   "metadata": {},
   "outputs": [
    {
     "data": {
      "text/plain": [
       "<Response [200]>"
      ]
     },
     "execution_count": 10,
     "metadata": {},
     "output_type": "execute_result"
    }
   ],
   "source": [
    "import requests\n",
    "\n",
    "url=\"http://127.0.0.1:5000/api/covid/lookup/\"\n",
    "\n",
    "results = requests.post(url, json={'city':'atlanta','stat_id':'GA'})\n",
    "\n",
    "results\n"
   ]
  },
  {
   "cell_type": "code",
   "execution_count": 24,
   "metadata": {},
   "outputs": [
    {
     "data": {
      "text/plain": [
       "'inserted'"
      ]
     },
     "execution_count": 24,
     "metadata": {},
     "output_type": "execute_result"
    }
   ],
   "source": [
    "import requests\n",
    "\n",
    "url=\"http://127.0.0.1:5000/api/covid/new_facilites/\"\n",
    "\n",
    "results = requests.post(url, json={'id':'110079', 'critical_care_capacity':'1', 'critical_care_occupancy':'2', \n",
    "                                   'critical_care_surge_capacity':'3', 'intermediate_care_capacity':'4',\n",
    "                                   'intermediate_care_occupancy':'5', 'intermediate_care_surge_capacity':'6', \n",
    "                                   'acute_care_capacity':'7', 'acute_care_occupancy':'8', \n",
    "                                   'acute_care_surge_capacity':'9', 'inpaitent_subtotal_capacity':'10', \n",
    "                                   'inpaitent_subtotal_occupancy':'11','inpaitent_subtotal_surge_capacity':'12', \n",
    "                                   'observation_capacity':'13', 'observation_occupancy':'14', \n",
    "                                   'observation_surge_capacity':'15', 'result_waiting_capacity':'16', \n",
    "                                   'result_waiting_occupancy':'17', 'result_waiting_surge_capacity':'18', \n",
    "                                   'discharge_capacity':'19', 'discharge_occupancy':'20', \n",
    "                                   'discharge_surge_capacity':'21', 'non_in_patient_subtotal':'22', \n",
    "                                   'totals':'23'})\n",
    "\n",
    "results.text"
   ]
  },
  {
   "cell_type": "code",
   "execution_count": null,
   "metadata": {},
   "outputs": [],
   "source": []
  }
 ],
 "metadata": {
  "kernelspec": {
   "display_name": "Python 3",
   "language": "python",
   "name": "python3"
  },
  "language_info": {
   "codemirror_mode": {
    "name": "ipython",
    "version": 3
   },
   "file_extension": ".py",
   "mimetype": "text/x-python",
   "name": "python",
   "nbconvert_exporter": "python",
   "pygments_lexer": "ipython3",
   "version": "3.6.9"
  }
 },
 "nbformat": 4,
 "nbformat_minor": 2
}
